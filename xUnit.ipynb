{
  "nbformat": 4,
  "nbformat_minor": 0,
  "metadata": {
    "colab": {
      "name": "xUnit.ipynb",
      "provenance": [],
      "collapsed_sections": []
    },
    "kernelspec": {
      "name": "python3",
      "display_name": "Python 3"
    }
  },
  "cells": [
    {
      "cell_type": "code",
      "metadata": {
        "id": "OrvMt1glX-iT",
        "colab_type": "code",
        "colab": {
          "base_uri": "https://localhost:8080/",
          "height": 215
        },
        "outputId": "28a4c6f8-cbd1-4c1c-896f-abc0b23f053e"
      },
      "source": [
        "test = WasRun(\"testMethod\")\n",
        "print(test.wasRun)\n",
        "test.testMethod()\n",
        "print(test.wasRun)"
      ],
      "execution_count": 1,
      "outputs": [
        {
          "output_type": "error",
          "ename": "NameError",
          "evalue": "ignored",
          "traceback": [
            "\u001b[0;31m---------------------------------------------------------------------------\u001b[0m",
            "\u001b[0;31mNameError\u001b[0m                                 Traceback (most recent call last)",
            "\u001b[0;32m<ipython-input-1-d90e1adb0741>\u001b[0m in \u001b[0;36m<module>\u001b[0;34m()\u001b[0m\n\u001b[0;32m----> 1\u001b[0;31m \u001b[0mtest\u001b[0m \u001b[0;34m=\u001b[0m \u001b[0mWasRun\u001b[0m\u001b[0;34m(\u001b[0m\u001b[0;34m\"testMethod\"\u001b[0m\u001b[0;34m)\u001b[0m\u001b[0;34m\u001b[0m\u001b[0;34m\u001b[0m\u001b[0m\n\u001b[0m\u001b[1;32m      2\u001b[0m \u001b[0mprint\u001b[0m\u001b[0;34m(\u001b[0m\u001b[0mtest\u001b[0m\u001b[0;34m.\u001b[0m\u001b[0mwasRun\u001b[0m\u001b[0;34m)\u001b[0m\u001b[0;34m\u001b[0m\u001b[0;34m\u001b[0m\u001b[0m\n\u001b[1;32m      3\u001b[0m \u001b[0mtest\u001b[0m\u001b[0;34m.\u001b[0m\u001b[0mtestMethod\u001b[0m\u001b[0;34m(\u001b[0m\u001b[0;34m)\u001b[0m\u001b[0;34m\u001b[0m\u001b[0;34m\u001b[0m\u001b[0m\n\u001b[1;32m      4\u001b[0m \u001b[0mprint\u001b[0m\u001b[0;34m(\u001b[0m\u001b[0mtest\u001b[0m\u001b[0;34m.\u001b[0m\u001b[0mwasRun\u001b[0m\u001b[0;34m)\u001b[0m\u001b[0;34m\u001b[0m\u001b[0;34m\u001b[0m\u001b[0m\n",
            "\u001b[0;31mNameError\u001b[0m: name 'WasRun' is not defined"
          ]
        }
      ]
    },
    {
      "cell_type": "code",
      "metadata": {
        "id": "nTsn_AWxYAw8",
        "colab_type": "code",
        "colab": {}
      },
      "source": [
        "class WasRun:\n",
        "  pass"
      ],
      "execution_count": 2,
      "outputs": []
    },
    {
      "cell_type": "code",
      "metadata": {
        "id": "88nmIP0eYH0O",
        "colab_type": "code",
        "colab": {}
      },
      "source": [
        "class WasRun:\n",
        "  def __init__(self, name):\n",
        "    self.wasRun = None\n",
        "\n",
        "  def testMethod(self):\n",
        "    pass"
      ],
      "execution_count": 5,
      "outputs": []
    },
    {
      "cell_type": "code",
      "metadata": {
        "id": "dPZ9Kmh9YNnw",
        "colab_type": "code",
        "colab": {
          "base_uri": "https://localhost:8080/",
          "height": 51
        },
        "outputId": "3c2b8dfa-536a-4334-fd88-cd6fae14e3e8"
      },
      "source": [
        "test = WasRun(\"testMethod\")\n",
        "print(test.wasRun)\n",
        "test.testMethod()\n",
        "print(test.wasRun)"
      ],
      "execution_count": 6,
      "outputs": [
        {
          "output_type": "stream",
          "text": [
            "None\n",
            "None\n"
          ],
          "name": "stdout"
        }
      ]
    },
    {
      "cell_type": "code",
      "metadata": {
        "id": "_HCW0UMZYOi_",
        "colab_type": "code",
        "colab": {}
      },
      "source": [
        "class WasRun:\n",
        "  def __init__(self, name):\n",
        "    self.wasRun = None\n",
        "\n",
        "  def testMethod(self):\n",
        "    self.wasRun = 1"
      ],
      "execution_count": 7,
      "outputs": []
    },
    {
      "cell_type": "code",
      "metadata": {
        "id": "xPSTQAKcYrGU",
        "colab_type": "code",
        "colab": {
          "base_uri": "https://localhost:8080/",
          "height": 51
        },
        "outputId": "3a05b928-036b-4e52-a0c9-c997ccb142f6"
      },
      "source": [
        "test = WasRun(\"testMethod\")\n",
        "print(test.wasRun)\n",
        "test.testMethod()\n",
        "print(test.wasRun)"
      ],
      "execution_count": 8,
      "outputs": [
        {
          "output_type": "stream",
          "text": [
            "None\n",
            "1\n"
          ],
          "name": "stdout"
        }
      ]
    },
    {
      "cell_type": "code",
      "metadata": {
        "id": "eZdgiC3PZSDW",
        "colab_type": "code",
        "colab": {}
      },
      "source": [
        "class WasRun:\n",
        "  def __init__(self, name):\n",
        "    self.wasRun = None\n",
        "    self.name = name\n",
        "\n",
        "  def run(self):\n",
        "    method = getattr(self, self.name)\n",
        "    method()\n",
        "\n",
        "  def testMethod(self):\n",
        "    self.wasRun = 1"
      ],
      "execution_count": 12,
      "outputs": []
    },
    {
      "cell_type": "code",
      "metadata": {
        "id": "iThJcsbcZm9v",
        "colab_type": "code",
        "colab": {
          "base_uri": "https://localhost:8080/",
          "height": 51
        },
        "outputId": "6dba376e-d786-4ab0-fa6d-555a01f31c6c"
      },
      "source": [
        "test = WasRun(\"testMethod\")\n",
        "print(test.wasRun)\n",
        "test.run()\n",
        "print(test.wasRun)"
      ],
      "execution_count": 13,
      "outputs": [
        {
          "output_type": "stream",
          "text": [
            "None\n",
            "1\n"
          ],
          "name": "stdout"
        }
      ]
    },
    {
      "cell_type": "code",
      "metadata": {
        "id": "SwxebwfOZnYR",
        "colab_type": "code",
        "colab": {}
      },
      "source": [
        "class TestCase:\n",
        "  pass"
      ],
      "execution_count": 14,
      "outputs": []
    },
    {
      "cell_type": "code",
      "metadata": {
        "id": "r_CURn9QZ5w6",
        "colab_type": "code",
        "colab": {}
      },
      "source": [
        "class TestCase:\n",
        "  def __init__(self, name):\n",
        "    self.name = name\n",
        "  \n",
        "class WasRun:\n",
        "  def __init__(self, name):\n",
        "    self.wasRun = None\n",
        "    TestCase.__init__(self, name)"
      ],
      "execution_count": 15,
      "outputs": []
    },
    {
      "cell_type": "code",
      "metadata": {
        "id": "ddiO1e9GcDTk",
        "colab_type": "code",
        "colab": {}
      },
      "source": [
        "class TestCase:\n",
        "  def __init__(self, name):\n",
        "    self.name = name\n",
        "\n",
        "  def run(self): \n",
        "    method = getattr(self, self.name)\n",
        "    method()\n",
        "  \n",
        "class WasRun:\n",
        "  def __init__(self, name):\n",
        "    self.wasRun = None\n",
        "    TestCase.__init__(self, name)\n",
        "\n",
        "  def run(self):\n",
        "    method = getattr(self, self.name)\n",
        "    method()\n",
        "\n",
        "  def testMethod(self):\n",
        "    self.wasRun = 1"
      ],
      "execution_count": 16,
      "outputs": []
    },
    {
      "cell_type": "code",
      "metadata": {
        "id": "5M__oQBEcS21",
        "colab_type": "code",
        "colab": {}
      },
      "source": [
        "class TestCaseTest(TestCase):\n",
        "  def testRunning(self):\n",
        "    test = WasRun(\"testMethod\")\n",
        "    assert(not test.wasRun)\n",
        "    test.run()\n",
        "    assert(test.wasRun)\n",
        "\n",
        "TestCaseTest(\"testRunning\").run()"
      ],
      "execution_count": 18,
      "outputs": []
    },
    {
      "cell_type": "code",
      "metadata": {
        "id": "3IMqM8GUckQ3",
        "colab_type": "code",
        "colab": {}
      },
      "source": [
        ""
      ],
      "execution_count": null,
      "outputs": []
    }
  ]
}